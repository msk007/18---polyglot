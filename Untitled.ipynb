{
 "cells": [
  {
   "cell_type": "code",
   "execution_count": 1,
   "metadata": {
    "collapsed": true
   },
   "outputs": [],
   "source": [
    "from textblob.classifiers import NaiveBayesClassifier\n",
    "from textblob import TextBlob"
   ]
  },
  {
   "cell_type": "code",
   "execution_count": null,
   "metadata": {
    "collapsed": true
   },
   "outputs": [],
   "source": []
  },
  {
   "cell_type": "code",
   "execution_count": 13,
   "metadata": {
    "collapsed": false
   },
   "outputs": [],
   "source": [
    "train = [\n",
    "    ('.perl','perl'),\n",
    "    ('.gcc','gcc'),\n",
    "    ('.sbcl','sbc1'),\n",
    "    ('.hack','hack'),\n",
    "    ('.php','php'),\n",
    "    ('.py','py'),\n",
    "    ('.jruby','jruby'),\n",
    "    ('.yarv','yarv'),\n",
    "    ('.racket','racket'),\n",
    "    ('.clojure','clojure'),\n",
    "    ('.java','java'),\n",
    "    ('.scala','scala') ]\n",
    "\n",
    "with open('test.csv', 'r') as test:\n",
    "    cl= NaiveBayesClassifier(test)"
   ]
  },
  {
   "cell_type": "code",
   "execution_count": 23,
   "metadata": {
    "collapsed": false
   },
   "outputs": [
    {
     "data": {
      "text/plain": [
       "'python'"
      ]
     },
     "execution_count": 23,
     "metadata": {},
     "output_type": "execute_result"
    }
   ],
   "source": [
    "data=open('bench/binarytrees/binarytrees.clojure-2.clojure','r') \n",
    "cl.classify(data)"
   ]
  },
  {
   "cell_type": "code",
   "execution_count": null,
   "metadata": {
    "collapsed": true
   },
   "outputs": [],
   "source": []
  }
 ],
 "metadata": {
  "kernelspec": {
   "display_name": "Python 3",
   "language": "python",
   "name": "python3"
  },
  "language_info": {
   "codemirror_mode": {
    "name": "ipython",
    "version": 3
   },
   "file_extension": ".py",
   "mimetype": "text/x-python",
   "name": "python",
   "nbconvert_exporter": "python",
   "pygments_lexer": "ipython3",
   "version": "3.4.3"
  }
 },
 "nbformat": 4,
 "nbformat_minor": 0
}
