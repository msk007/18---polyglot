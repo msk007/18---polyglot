{
 "cells": [
  {
   "cell_type": "code",
   "execution_count": 1,
   "metadata": {
    "collapsed": true
   },
   "outputs": [],
   "source": [
    "from textblob.classifiers import NaiveBayesClassifier\n",
    "from textblob import TextBlob\n",
    "import glob\n",
    "import csv\n",
    "import pandas as pd"
   ]
  },
  {
   "cell_type": "code",
   "execution_count": 2,
   "metadata": {
    "collapsed": true
   },
   "outputs": [],
   "source": [
    "train = [\n",
    "    ('.perl','perl'),\n",
    "    ('.gcc','gcc'),\n",
    "    ('.sbcl','sbc1'),\n",
    "    ('.hack','hack'),\n",
    "    ('.php','php'),\n",
    "    ('.py','python'),\n",
    "    ('.jruby','jruby'),\n",
    "    ('.yarv','yarv'),\n",
    "    ('.racket','racket'),\n",
    "    ('.clojure','clojure'),\n",
    "    ('.java','java'),\n",
    "    ('.scala','scala') ]"
   ]
  },
  {
   "cell_type": "code",
   "execution_count": 3,
   "metadata": {
    "collapsed": false
   },
   "outputs": [],
   "source": [
    "# #train = [(open('bench/binarytrees/binarytrees.clojure').read,'clojure'),\n",
    "#          (open('bench/binarytrees/binarytrees.gcc').read, 'C'),\n",
    "#          (open('bench/binarytrees/binarytrees.jruby').read, 'ruby'),\n",
    "#          (open('bench/binarytrees/binarytrees.racket').read, 'scheme'),\n",
    "#          (open('bench/binarytrees/binarytrees.java').read, 'java'),\n",
    "#          (open('bench/binarytrees/binarytrees.sbcl').read, 'Common Lisp'),\n",
    "#          (open('bench/binarytrees/binarytrees.perl').read, 'perl'),\n",
    "#          (open('bench/binarytrees/binarytrees.php').read, 'php')\n",
    "# ]\n",
    "\n",
    "\n",
    "\n",
    "\n",
    "\n",
    "\n",
    "with open('test.csv', 'r') as test:\n",
    "   cl = NaiveBayesClassifier(test)"
   ]
  },
  {
   "cell_type": "code",
   "execution_count": null,
   "metadata": {
    "collapsed": false
   },
   "outputs": [],
   "source": [
    "\n"
   ]
  },
  {
   "cell_type": "code",
   "execution_count": 4,
   "metadata": {
    "collapsed": false
   },
   "outputs": [],
   "source": [
    "clt= NaiveBayesClassifier(train)"
   ]
  },
  {
   "cell_type": "code",
   "execution_count": 5,
   "metadata": {
    "collapsed": false
   },
   "outputs": [
    {
     "data": {
      "text/plain": [
       "'clojure'"
      ]
     },
     "execution_count": 5,
     "metadata": {},
     "output_type": "execute_result"
    }
   ],
   "source": [
    "data=open('bench/binarytrees/binarytrees.java','r')\n",
    "\n",
    "cl.classify(data)"
   ]
  },
  {
   "cell_type": "code",
   "execution_count": 6,
   "metadata": {
    "collapsed": false
   },
   "outputs": [],
   "source": [
    "blob = TextBlob(\"open('bench/binarytrees/binarytrees.yarv','r',\", classifier=clt)"
   ]
  },
  {
   "cell_type": "code",
   "execution_count": 7,
   "metadata": {
    "collapsed": false
   },
   "outputs": [
    {
     "data": {
      "text/plain": [
       "'yarv'"
      ]
     },
     "execution_count": 7,
     "metadata": {},
     "output_type": "execute_result"
    }
   ],
   "source": [
    "blob.classify()"
   ]
  },
  {
   "cell_type": "code",
   "execution_count": 8,
   "metadata": {
    "collapsed": false
   },
   "outputs": [],
   "source": [
    "accuracy=cl.accuracy(train)"
   ]
  },
  {
   "cell_type": "code",
   "execution_count": 9,
   "metadata": {
    "collapsed": false
   },
   "outputs": [
    {
     "data": {
      "text/plain": [
       "0.08333333333333333"
      ]
     },
     "execution_count": 9,
     "metadata": {},
     "output_type": "execute_result"
    }
   ],
   "source": [
    "accuracy"
   ]
  },
  {
   "cell_type": "code",
   "execution_count": null,
   "metadata": {
    "collapsed": true
   },
   "outputs": [],
   "source": []
  }
 ],
 "metadata": {
  "kernelspec": {
   "display_name": "Python 3",
   "language": "python",
   "name": "python3"
  },
  "language_info": {
   "codemirror_mode": {
    "name": "ipython",
    "version": 3
   },
   "file_extension": ".py",
   "mimetype": "text/x-python",
   "name": "python",
   "nbconvert_exporter": "python",
   "pygments_lexer": "ipython3",
   "version": "3.4.3"
  }
 },
 "nbformat": 4,
 "nbformat_minor": 0
}
